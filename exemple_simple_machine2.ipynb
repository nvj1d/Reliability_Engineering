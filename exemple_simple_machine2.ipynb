{
  "nbformat": 4,
  "nbformat_minor": 0,
  "metadata": {
    "colab": {
      "name": "exemple_simple_machine2.ipynb",
      "provenance": [],
      "collapsed_sections": [],
      "mount_file_id": "1nF3iwJ3OgIAXT8L0c1AwIxPYOmurSwtp",
      "authorship_tag": "ABX9TyMrV1l/r9ty8w0TwMQCQdZ1"
    },
    "kernelspec": {
      "name": "python3",
      "display_name": "Python 3"
    },
    "language_info": {
      "name": "python"
    }
  },
  "cells": [
    {
      "cell_type": "markdown",
      "source": [
        "**un exemple comment choisir un modele :**"
      ],
      "metadata": {
        "id": "FLpYdVNyz6IL"
      }
    },
    {
      "cell_type": "code",
      "execution_count": null,
      "metadata": {
        "id": "lM8AzJY6G5ZC"
      },
      "outputs": [],
      "source": [
        "#installer la bibliothèque reliability s'il necessaire\n",
        "!pip install reliability"
      ]
    },
    {
      "cell_type": "code",
      "source": [
        "#pandas pour le tableau\n",
        "import pandas as pd\n",
        "#numply pour les nombres\n",
        "import numpy as np\n",
        "#pour les graphes\n",
        "import matplotlib.pyplot as plt\n",
        "#plus des outils pour les graphes\n",
        "import seaborn as sns\n",
        "#pour les warnings (pes des erreurs)\n",
        "import warnings\n",
        "warnings.filterwarnings('ignore')\n",
        "#importer la pachage (bibliotheque que nous avons installer)\n",
        "import reliability\n",
        "from reliability.Fitters import Fit_Everything\n",
        "#pour le loi normal (le modele est deja implimete en python)\n",
        "from scipy.stats import norm\n",
        "from scipy import stats"
      ],
      "metadata": {
        "id": "_4-H-CLzG7U0"
      },
      "execution_count": 2,
      "outputs": []
    },
    {
      "cell_type": "code",
      "source": [
        "#importer notre fichier csv\n",
        "#verifier l'emplacement de fichier!!\n",
        "failure_times = pd.read_csv('/content/drive/MyDrive/datasets/failure_times.csv')"
      ],
      "metadata": {
        "id": "se_iBzs8G9Y7"
      },
      "execution_count": 3,
      "outputs": []
    },
    {
      "cell_type": "code",
      "source": [
        "#un échantillon de notre donnees\n",
        "failure_times.head()"
      ],
      "metadata": {
        "colab": {
          "base_uri": "https://localhost:8080/",
          "height": 206
        },
        "id": "-4OR7dd0HBAr",
        "outputId": "ec7ccdd3-1a3f-43d1-c2f3-a4ca1b5c3c80"
      },
      "execution_count": 4,
      "outputs": [
        {
          "output_type": "execute_result",
          "data": {
            "text/plain": [
              "   machine 1  machine 2\n",
              "0    18.4836    20.9739\n",
              "1    20.7082     23.192\n",
              "2    18.2068    17.6222\n",
              "3    21.8016    15.9528\n",
              "4    23.9715    17.5691"
            ],
            "text/html": [
              "\n",
              "  <div id=\"df-86c258fe-af7b-4634-9da1-44a824bbfc51\">\n",
              "    <div class=\"colab-df-container\">\n",
              "      <div>\n",
              "<style scoped>\n",
              "    .dataframe tbody tr th:only-of-type {\n",
              "        vertical-align: middle;\n",
              "    }\n",
              "\n",
              "    .dataframe tbody tr th {\n",
              "        vertical-align: top;\n",
              "    }\n",
              "\n",
              "    .dataframe thead th {\n",
              "        text-align: right;\n",
              "    }\n",
              "</style>\n",
              "<table border=\"1\" class=\"dataframe\">\n",
              "  <thead>\n",
              "    <tr style=\"text-align: right;\">\n",
              "      <th></th>\n",
              "      <th>machine 1</th>\n",
              "      <th>machine 2</th>\n",
              "    </tr>\n",
              "  </thead>\n",
              "  <tbody>\n",
              "    <tr>\n",
              "      <th>0</th>\n",
              "      <td>18.4836</td>\n",
              "      <td>20.9739</td>\n",
              "    </tr>\n",
              "    <tr>\n",
              "      <th>1</th>\n",
              "      <td>20.7082</td>\n",
              "      <td>23.192</td>\n",
              "    </tr>\n",
              "    <tr>\n",
              "      <th>2</th>\n",
              "      <td>18.2068</td>\n",
              "      <td>17.6222</td>\n",
              "    </tr>\n",
              "    <tr>\n",
              "      <th>3</th>\n",
              "      <td>21.8016</td>\n",
              "      <td>15.9528</td>\n",
              "    </tr>\n",
              "    <tr>\n",
              "      <th>4</th>\n",
              "      <td>23.9715</td>\n",
              "      <td>17.5691</td>\n",
              "    </tr>\n",
              "  </tbody>\n",
              "</table>\n",
              "</div>\n",
              "      <button class=\"colab-df-convert\" onclick=\"convertToInteractive('df-86c258fe-af7b-4634-9da1-44a824bbfc51')\"\n",
              "              title=\"Convert this dataframe to an interactive table.\"\n",
              "              style=\"display:none;\">\n",
              "        \n",
              "  <svg xmlns=\"http://www.w3.org/2000/svg\" height=\"24px\"viewBox=\"0 0 24 24\"\n",
              "       width=\"24px\">\n",
              "    <path d=\"M0 0h24v24H0V0z\" fill=\"none\"/>\n",
              "    <path d=\"M18.56 5.44l.94 2.06.94-2.06 2.06-.94-2.06-.94-.94-2.06-.94 2.06-2.06.94zm-11 1L8.5 8.5l.94-2.06 2.06-.94-2.06-.94L8.5 2.5l-.94 2.06-2.06.94zm10 10l.94 2.06.94-2.06 2.06-.94-2.06-.94-.94-2.06-.94 2.06-2.06.94z\"/><path d=\"M17.41 7.96l-1.37-1.37c-.4-.4-.92-.59-1.43-.59-.52 0-1.04.2-1.43.59L10.3 9.45l-7.72 7.72c-.78.78-.78 2.05 0 2.83L4 21.41c.39.39.9.59 1.41.59.51 0 1.02-.2 1.41-.59l7.78-7.78 2.81-2.81c.8-.78.8-2.07 0-2.86zM5.41 20L4 18.59l7.72-7.72 1.47 1.35L5.41 20z\"/>\n",
              "  </svg>\n",
              "      </button>\n",
              "      \n",
              "  <style>\n",
              "    .colab-df-container {\n",
              "      display:flex;\n",
              "      flex-wrap:wrap;\n",
              "      gap: 12px;\n",
              "    }\n",
              "\n",
              "    .colab-df-convert {\n",
              "      background-color: #E8F0FE;\n",
              "      border: none;\n",
              "      border-radius: 50%;\n",
              "      cursor: pointer;\n",
              "      display: none;\n",
              "      fill: #1967D2;\n",
              "      height: 32px;\n",
              "      padding: 0 0 0 0;\n",
              "      width: 32px;\n",
              "    }\n",
              "\n",
              "    .colab-df-convert:hover {\n",
              "      background-color: #E2EBFA;\n",
              "      box-shadow: 0px 1px 2px rgba(60, 64, 67, 0.3), 0px 1px 3px 1px rgba(60, 64, 67, 0.15);\n",
              "      fill: #174EA6;\n",
              "    }\n",
              "\n",
              "    [theme=dark] .colab-df-convert {\n",
              "      background-color: #3B4455;\n",
              "      fill: #D2E3FC;\n",
              "    }\n",
              "\n",
              "    [theme=dark] .colab-df-convert:hover {\n",
              "      background-color: #434B5C;\n",
              "      box-shadow: 0px 1px 3px 1px rgba(0, 0, 0, 0.15);\n",
              "      filter: drop-shadow(0px 1px 2px rgba(0, 0, 0, 0.3));\n",
              "      fill: #FFFFFF;\n",
              "    }\n",
              "  </style>\n",
              "\n",
              "      <script>\n",
              "        const buttonEl =\n",
              "          document.querySelector('#df-86c258fe-af7b-4634-9da1-44a824bbfc51 button.colab-df-convert');\n",
              "        buttonEl.style.display =\n",
              "          google.colab.kernel.accessAllowed ? 'block' : 'none';\n",
              "\n",
              "        async function convertToInteractive(key) {\n",
              "          const element = document.querySelector('#df-86c258fe-af7b-4634-9da1-44a824bbfc51');\n",
              "          const dataTable =\n",
              "            await google.colab.kernel.invokeFunction('convertToInteractive',\n",
              "                                                     [key], {});\n",
              "          if (!dataTable) return;\n",
              "\n",
              "          const docLinkHtml = 'Like what you see? Visit the ' +\n",
              "            '<a target=\"_blank\" href=https://colab.research.google.com/notebooks/data_table.ipynb>data table notebook</a>'\n",
              "            + ' to learn more about interactive tables.';\n",
              "          element.innerHTML = '';\n",
              "          dataTable['output_type'] = 'display_data';\n",
              "          await google.colab.output.renderOutput(dataTable, element);\n",
              "          const docLink = document.createElement('div');\n",
              "          docLink.innerHTML = docLinkHtml;\n",
              "          element.appendChild(docLink);\n",
              "        }\n",
              "      </script>\n",
              "    </div>\n",
              "  </div>\n",
              "  "
            ]
          },
          "metadata": {},
          "execution_count": 4
        }
      ]
    },
    {
      "cell_type": "code",
      "source": [
        "#une description statistique des donnees de machine 2\n",
        "#moyenne : 20.1857\n",
        "#ecart type : 2.82453\n",
        "failure_times['machine 2'].describe()"
      ],
      "metadata": {
        "colab": {
          "base_uri": "https://localhost:8080/",
          "height": 0
        },
        "id": "OnHCjsssO1nk",
        "outputId": "784252ee-d28c-4136-ac1a-750a8cd2fb7b"
      },
      "execution_count": 5,
      "outputs": [
        {
          "output_type": "execute_result",
          "data": {
            "text/plain": [
              "count       100\n",
              "mean    20.1857\n",
              "std     2.82453\n",
              "min     12.9348\n",
              "25%     18.4794\n",
              "50%     20.2791\n",
              "75%     21.9617\n",
              "max     26.1262\n",
              "Name: machine 2, dtype: float64"
            ]
          },
          "metadata": {},
          "execution_count": 5
        }
      ]
    },
    {
      "cell_type": "code",
      "source": [
        "#nombres d'occurences des valeurs ex: 20 --> 19 fois\n",
        "failure_times['machine 2'].round(0).value_counts(ascending=True)"
      ],
      "metadata": {
        "colab": {
          "base_uri": "https://localhost:8080/",
          "height": 0
        },
        "id": "ptwQc9B8HNtb",
        "outputId": "220bc57c-2017-4fa3-b104-a27dc722c19c"
      },
      "execution_count": 6,
      "outputs": [
        {
          "output_type": "execute_result",
          "data": {
            "text/plain": [
              "13     1\n",
              "25     2\n",
              "17     3\n",
              "15     4\n",
              "26     4\n",
              "22     5\n",
              "16     7\n",
              "23     8\n",
              "24     9\n",
              "18    11\n",
              "19    12\n",
              "21    15\n",
              "20    19\n",
              "Name: machine 2, dtype: int64"
            ]
          },
          "metadata": {},
          "execution_count": 6
        }
      ]
    },
    {
      "cell_type": "code",
      "source": [
        "#un histogramme qui affiche graphiquement ces nombres d'occurences\n",
        "plt.hist(failure_times['machine 2'],color = 'red')\n",
        "#titre\n",
        "plt.title(\"Machine 2\")\n",
        "#x\n",
        "plt.xlabel(\"Failure Time (In Weeks)\")\n",
        "#y\n",
        "plt.ylabel(\"Frequency\")"
      ],
      "metadata": {
        "colab": {
          "base_uri": "https://localhost:8080/",
          "height": 312
        },
        "id": "kJwLn-SYHEXj",
        "outputId": "cf372787-5917-4d45-aef4-9894c7f77aab"
      },
      "execution_count": 7,
      "outputs": [
        {
          "output_type": "execute_result",
          "data": {
            "text/plain": [
              "Text(0, 0.5, 'Frequency')"
            ]
          },
          "metadata": {},
          "execution_count": 7
        },
        {
          "output_type": "display_data",
          "data": {
            "text/plain": [
              "<Figure size 432x288 with 1 Axes>"
            ],
            "image/png": "[encoded data removed]"
          },
          "metadata": {
            "needs_background": "light"
          }
        }
      ]
    },
    {
      "cell_type": "code",
      "source": [
        "#on va utiliser seaborn pour trasformer notre histogramme (reduire) a un nouveau histogramme de probabilité\n",
        "#afficher la figure\n",
        "fig, ax = plt.subplots(figsize=(6, 5))\n",
        "#reduire le histogramme \n",
        "p = sns.histplot(data=failure_times, x='machine 2', stat='probability', ax=ax)"
      ],
      "metadata": {
        "colab": {
          "base_uri": "https://localhost:8080/",
          "height": 334
        },
        "id": "6lOdvHgWHwFF",
        "outputId": "4f839747-85f6-405b-a312-4019053a7b93"
      },
      "execution_count": 8,
      "outputs": [
        {
          "output_type": "display_data",
          "data": {
            "text/plain": [
              "<Figure size 432x360 with 1 Axes>"
            ],
            "image/png": "[encoded data removed]"
          },
          "metadata": {
            "needs_background": "light"
          }
        }
      ]
    },
    {
      "cell_type": "markdown",
      "source": [
        "en remarque que par exemple que notre distribution suit un loi normale"
      ],
      "metadata": {
        "id": "eATYPrBN0F9h"
      }
    },
    {
      "cell_type": "markdown",
      "source": [
        "**la formule de loi normal**"
      ],
      "metadata": {
        "id": "4Z-59L_Uy9vC"
      }
    },
    {
      "cell_type": "markdown",
      "source": [
        "![normal-distribution-formula.png](data:image/png;base64,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)"
      ],
      "metadata": {
        "id": "iljp5U81KcC8"
      }
    },
    {
      "cell_type": "code",
      "source": [
        "#generer une list des points entre 12 et 30 par exemple\n",
        "x = np.linspace(12,30,100)\n",
        "#calculer les valeurs en loi normal de ces points\n",
        "pdf_result = stats.norm.pdf(x,loc=20.1857,scale=2.82453)\n",
        "#dessiner le graphe\n",
        "plt.plot(x,pdf_result)\n",
        "#x\n",
        "plt.xlabel('x')\n",
        "#y\n",
        "plt.ylabel('p')\n",
        "#titre\n",
        "plt.title(\"PDF of a Normal Distribution with mean=0 and sigma=1\")\n",
        "#aficher le graphe\n",
        "plt.show()"
      ],
      "metadata": {
        "colab": {
          "base_uri": "https://localhost:8080/",
          "height": 295
        },
        "id": "CTBPklyWLQ-7",
        "outputId": "172eb38e-06a8-48f2-a001-76fe037dbe8a"
      },
      "execution_count": 9,
      "outputs": [
        {
          "output_type": "display_data",
          "data": {
            "text/plain": [
              "<Figure size 432x288 with 1 Axes>"
            ],
            "image/png": "[encoded data removed]"
          },
          "metadata": {
            "needs_background": "light"
          }
        }
      ]
    },
    {
      "cell_type": "code",
      "source": [
        "#exemple de calcul pour un valeur t = 25\n",
        "stats.norm.pdf(25,loc=20.1857,scale=2.82453)"
      ],
      "metadata": {
        "colab": {
          "base_uri": "https://localhost:8080/",
          "height": 0
        },
        "id": "lS_cehZXJdUl",
        "outputId": "74af212f-137d-4743-dd3a-4145d16cb769"
      },
      "execution_count": 10,
      "outputs": [
        {
          "output_type": "execute_result",
          "data": {
            "text/plain": [
              "0.03304538295258827"
            ]
          },
          "metadata": {},
          "execution_count": 10
        }
      ]
    },
    {
      "cell_type": "code",
      "source": [
        ""
      ],
      "metadata": {
        "id": "qxQ08HtkSK4c"
      },
      "execution_count": 10,
      "outputs": []
    }
  ]
}